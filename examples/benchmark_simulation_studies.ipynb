{
 "cells": [
  {
   "cell_type": "markdown",
   "metadata": {},
   "source": [
    "# Comparing meta-learners across simulation setups\n",
    "This notebook compares X-, R-, T- and S-learners across the simulation setups discussed by [Nie and Wager (2020)](https://arxiv.org/pdf/1712.04912.pdf). Note that the experiments don't include the parameter tuning described in the paper."
   ]
  },
  {
   "cell_type": "code",
   "execution_count": 1,
   "metadata": {},
   "outputs": [
    {
     "name": "stderr",
     "output_type": "stream",
     "text": [
      "IProgress not found. Please update jupyter and ipywidgets. See https://ipywidgets.readthedocs.io/en/stable/user_install.html\n",
      "Failed to import duecredit due to No module named 'duecredit'\n"
     ]
    }
   ],
   "source": [
    "import numpy as np\n",
    "import pandas as pd\n",
    "\n",
    "from causalml.inference.meta import BaseSRegressor\n",
    "from causalml.inference.meta import BaseTRegressor\n",
    "from causalml.inference.meta import BaseXRegressor\n",
    "from causalml.inference.meta import BaseRRegressor\n",
    "\n",
    "from causalml.dataset import synthetic_data\n",
    "\n",
    "from sklearn.metrics import mean_squared_error\n",
    "from sklearn.model_selection import train_test_split, cross_val_predict\n",
    "from sklearn.base import clone\n",
    "\n",
    "from sklearn.linear_model import LogisticRegression, Lasso\n",
    "from xgboost import XGBRegressor\n",
    "\n",
    "from copy import deepcopy\n",
    "from itertools import product\n",
    "\n",
    "from tqdm import tqdm\n",
    "\n",
    "import matplotlib.pyplot as plt\n",
    "import seaborn as sns\n",
    "sns.set_style('whitegrid')"
   ]
  },
  {
   "cell_type": "code",
   "execution_count": 2,
   "metadata": {},
   "outputs": [
    {
     "name": "stdout",
     "output_type": "stream",
     "text": [
      "0.14.0\n"
     ]
    }
   ],
   "source": [
    "import causalml\n",
    "print(causalml.__version__)"
   ]
  },
  {
   "cell_type": "code",
   "execution_count": null,
   "metadata": {},
   "outputs": [
    {
     "ename": "",
     "evalue": "",
     "output_type": "error",
     "traceback": [
      "\u001b[1;31mRunning cells with 'causalml-py37' requires the ipykernel package.\n",
      "\u001b[1;31mRun the following command to install 'ipykernel' into the Python environment. \n",
      "\u001b[1;31mCommand: 'conda install -n causalml-py37 ipykernel --update-deps --force-reinstall'"
     ]
    }
   ],
   "source": [
    "def run_experiments(n_list, p_list, s_list, m_list, learner_dict, num_iter,\n",
    "                    propensity_learner):\n",
    "    \n",
    "    result_list = []    \n",
    "\n",
    "    for i in tqdm(range(num_iter)):\n",
    "        \n",
    "        for n, p, s, m, learner in product(n_list, p_list, s_list, m_list, learner_dict.keys()):\n",
    "\n",
    "            y, X, W, tau, _, _ = synthetic_data(mode=m, n=n, p=p, sigma=s)\n",
    "            X_train, X_test, W_train, _, y_train, _, _, tau_test = train_test_split(\n",
    "                X, W, y, tau, test_size=0.2, random_state=111)\n",
    "\n",
    "            if propensity_learner is not None:\n",
    "                em = clone(propensity_learner)\n",
    "                em.fit(X_train, W_train)\n",
    "                e_hat_train = cross_val_predict(em, X_train, W_train, method='predict_proba')[:, 1]\n",
    "                e_hat_test = em.predict_proba(X_test)[:, 1]\n",
    "\n",
    "            model = deepcopy(learner_dict[learner])\n",
    "            model.fit(X=X_train, treatment=W_train, y=y_train, p=e_hat_train)\n",
    "            hat_tau = model.predict(X_test, p=e_hat_test)\n",
    "\n",
    "            pehe = mean_squared_error(tau_test, hat_tau)\n",
    "\n",
    "            result_list.append([n, p, s, m, learner, pehe])\n",
    "    \n",
    "    cols = ['num_samples', 'num_features', 'sigma', 'sim_mode', 'learner', 'pehe']\n",
    "    df_res = pd.DataFrame(result_list, columns=cols)\n",
    "    return df_res"
   ]
  },
  {
   "cell_type": "markdown",
   "metadata": {},
   "source": [
    "## Lasso based experiments"
   ]
  },
  {
   "cell_type": "code",
   "execution_count": null,
   "metadata": {},
   "outputs": [
    {
     "ename": "",
     "evalue": "",
     "output_type": "error",
     "traceback": [
      "\u001b[1;31mRunning cells with 'causalml-py37' requires the ipykernel package.\n",
      "\u001b[1;31mRun the following command to install 'ipykernel' into the Python environment. \n",
      "\u001b[1;31mCommand: 'conda install -n causalml-py37 ipykernel --update-deps --force-reinstall'"
     ]
    }
   ],
   "source": [
    "# Simulation params from Nie and Wager (2020)\n",
    "n_list = [100, 500]\n",
    "p_list = [6, 12]\n",
    "s_list = [0.5, 1, 2, 4]\n",
    "m_list = [1, 2, 3, 4]\n",
    "num_iter = 100\n",
    "\n",
    "learner_dict = {\n",
    "    'S-Learner': BaseSRegressor(learner=Lasso()),\n",
    "    'T-Learner': BaseTRegressor(learner=Lasso()),\n",
    "    'X-Learner': BaseXRegressor(learner=Lasso()),\n",
    "    'R-Learner': BaseRRegressor(learner=Lasso())\n",
    "}\n",
    "\n",
    "propensity_learner = LogisticRegression(penalty='l1', solver='liblinear')\n",
    "\n",
    "df_res_lasso = run_experiments(n_list, p_list, s_list, m_list, learner_dict, num_iter, propensity_learner=propensity_learner)"
   ]
  },
  {
   "cell_type": "code",
   "execution_count": null,
   "metadata": {},
   "outputs": [
    {
     "ename": "",
     "evalue": "",
     "output_type": "error",
     "traceback": [
      "\u001b[1;31mRunning cells with 'causalml-py37' requires the ipykernel package.\n",
      "\u001b[1;31mRun the following command to install 'ipykernel' into the Python environment. \n",
      "\u001b[1;31mCommand: 'conda install -n causalml-py37 ipykernel --update-deps --force-reinstall'"
     ]
    }
   ],
   "source": [
    "df_res_lasso.groupby(['learner', 'sim_mode'])['pehe'].median()"
   ]
  },
  {
   "cell_type": "code",
   "execution_count": null,
   "metadata": {},
   "outputs": [
    {
     "ename": "",
     "evalue": "",
     "output_type": "error",
     "traceback": [
      "\u001b[1;31mRunning cells with 'causalml-py37' requires the ipykernel package.\n",
      "\u001b[1;31mRun the following command to install 'ipykernel' into the Python environment. \n",
      "\u001b[1;31mCommand: 'conda install -n causalml-py37 ipykernel --update-deps --force-reinstall'"
     ]
    }
   ],
   "source": [
    "data_generation_descs = {\n",
    "    1: 'Difficult nuisance and easy treatment',\n",
    "    2: 'Randomized trial',\n",
    "    3: 'Easy propensity and a difficult baseline',\n",
    "    4: 'Unrelated treatment and control'\n",
    "}"
   ]
  },
  {
   "cell_type": "code",
   "execution_count": null,
   "metadata": {},
   "outputs": [
    {
     "ename": "",
     "evalue": "",
     "output_type": "error",
     "traceback": [
      "\u001b[1;31mRunning cells with 'causalml-py37' requires the ipykernel package.\n",
      "\u001b[1;31mRun the following command to install 'ipykernel' into the Python environment. \n",
      "\u001b[1;31mCommand: 'conda install -n causalml-py37 ipykernel --update-deps --force-reinstall'"
     ]
    }
   ],
   "source": [
    "sns.boxplot(x='learner', y='pehe', data=df_res_lasso, linewidth=1, showfliers=False)\n",
    "plt.ylabel('PEHE (MSE)')\n",
    "plt.xlabel('')\n",
    "plt.title('All experiments (Lasso)')\n",
    "plt.show()"
   ]
  },
  {
   "cell_type": "code",
   "execution_count": null,
   "metadata": {},
   "outputs": [
    {
     "ename": "",
     "evalue": "",
     "output_type": "error",
     "traceback": [
      "\u001b[1;31mRunning cells with 'causalml-py37' requires the ipykernel package.\n",
      "\u001b[1;31mRun the following command to install 'ipykernel' into the Python environment. \n",
      "\u001b[1;31mCommand: 'conda install -n causalml-py37 ipykernel --update-deps --force-reinstall'"
     ]
    }
   ],
   "source": [
    "fig, axs = plt.subplots(2, 2, figsize=(15, 10))\n",
    "axs = axs.ravel()\n",
    "for i, m in zip(range(4), m_list):\n",
    "    sns.boxplot(x='learner', y='pehe', data=df_res_lasso.loc[df_res_lasso['sim_mode'] == m], linewidth=1, showfliers=False, ax=axs[i])\n",
    "    axs[i].title.set_text(data_generation_descs[m] + ' (Lasso)')\n",
    "    axs[i].set_ylabel('PEHE (MSE)')\n",
    "    axs[i].set_xlabel('') # Hack\n",
    "    axs[i].tick_params(labelsize=18)\n",
    "plt.tight_layout()"
   ]
  },
  {
   "cell_type": "markdown",
   "metadata": {},
   "source": [
    "## Gradient boosting based experiments"
   ]
  },
  {
   "cell_type": "code",
   "execution_count": null,
   "metadata": {},
   "outputs": [
    {
     "ename": "",
     "evalue": "",
     "output_type": "error",
     "traceback": [
      "\u001b[1;31mRunning cells with 'causalml-py37' requires the ipykernel package.\n",
      "\u001b[1;31mRun the following command to install 'ipykernel' into the Python environment. \n",
      "\u001b[1;31mCommand: 'conda install -n causalml-py37 ipykernel --update-deps --force-reinstall'"
     ]
    }
   ],
   "source": [
    "n_list = [500, 1000]\n",
    "p_list = [6, 12]\n",
    "s_list = [0.5, 1, 2, 4]\n",
    "m_list = [1, 2, 3, 4]\n",
    "num_iter = 100\n",
    "\n",
    "learner_dict = {\n",
    "    'S-Learner': BaseSRegressor(learner=XGBRegressor(n_jobs=-1)),\n",
    "    'T-Learner': BaseTRegressor(learner=XGBRegressor(n_jobs=-1)),\n",
    "    'X-Learner': BaseXRegressor(learner=XGBRegressor(n_jobs=-1)),\n",
    "    'R-Learner': BaseRRegressor(learner=XGBRegressor(n_jobs=-1))\n",
    "}\n",
    "\n",
    "propensity_learner = LogisticRegression(penalty='l1', solver='liblinear')\n",
    "\n",
    "df_res_xgb = run_experiments(n_list, p_list, s_list, m_list, learner_dict, num_iter, propensity_learner=propensity_learner)"
   ]
  },
  {
   "cell_type": "code",
   "execution_count": null,
   "metadata": {},
   "outputs": [
    {
     "ename": "",
     "evalue": "",
     "output_type": "error",
     "traceback": [
      "\u001b[1;31mRunning cells with 'causalml-py37' requires the ipykernel package.\n",
      "\u001b[1;31mRun the following command to install 'ipykernel' into the Python environment. \n",
      "\u001b[1;31mCommand: 'conda install -n causalml-py37 ipykernel --update-deps --force-reinstall'"
     ]
    }
   ],
   "source": [
    "df_res_xgb.groupby(['learner', 'sim_mode'])['pehe'].median()"
   ]
  },
  {
   "cell_type": "code",
   "execution_count": null,
   "metadata": {},
   "outputs": [
    {
     "ename": "",
     "evalue": "",
     "output_type": "error",
     "traceback": [
      "\u001b[1;31mRunning cells with 'causalml-py37' requires the ipykernel package.\n",
      "\u001b[1;31mRun the following command to install 'ipykernel' into the Python environment. \n",
      "\u001b[1;31mCommand: 'conda install -n causalml-py37 ipykernel --update-deps --force-reinstall'"
     ]
    }
   ],
   "source": [
    "sns.boxplot(x='learner', y='pehe', data=df_res_xgb, linewidth=1, showfliers=False)\n",
    "plt.ylabel('PEHE (MSE)')\n",
    "plt.xlabel('')\n",
    "plt.title('All experiments (XGB)')\n",
    "plt.show()"
   ]
  },
  {
   "cell_type": "code",
   "execution_count": null,
   "metadata": {},
   "outputs": [
    {
     "ename": "",
     "evalue": "",
     "output_type": "error",
     "traceback": [
      "\u001b[1;31mRunning cells with 'causalml-py37' requires the ipykernel package.\n",
      "\u001b[1;31mRun the following command to install 'ipykernel' into the Python environment. \n",
      "\u001b[1;31mCommand: 'conda install -n causalml-py37 ipykernel --update-deps --force-reinstall'"
     ]
    }
   ],
   "source": [
    "fig, axs = plt.subplots(2, 2, figsize=(15, 10))\n",
    "axs = axs.ravel()\n",
    "for i, m in zip(range(4), m_list):\n",
    "    sns.boxplot(x='learner', y='pehe', data=df_res_xgb.loc[df_res_xgb['sim_mode'] == m], linewidth=1, showfliers=False, ax=axs[i])\n",
    "    axs[i].title.set_text(data_generation_descs[m] + ' (XGB)')\n",
    "    axs[i].set_ylabel('PEHE (MSE)')\n",
    "    axs[i].set_xlabel('') # Hack\n",
    "    axs[i].tick_params(labelsize=18)\n",
    "plt.tight_layout()"
   ]
  }
 ],
 "metadata": {
  "interpreter": {
   "hash": "4acd3287ba5216ad775c02c376e708ed794f511501a155bfdfe52a215149642e"
  },
  "kernelspec": {
   "display_name": "causalml3.9",
   "language": "python",
   "name": "causalml3.9"
  },
  "language_info": {
   "codemirror_mode": {
    "name": "ipython",
    "version": 3
   },
   "file_extension": ".py",
   "mimetype": "text/x-python",
   "name": "python",
   "nbconvert_exporter": "python",
   "pygments_lexer": "ipython3",
   "version": "3.9.16"
  },
  "orig_nbformat": 2
 },
 "nbformat": 4,
 "nbformat_minor": 2
}
